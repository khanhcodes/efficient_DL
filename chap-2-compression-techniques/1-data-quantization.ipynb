{
 "cells": [
  {
   "cell_type": "code",
   "execution_count": 1,
   "metadata": {},
   "outputs": [],
   "source": [
    "# Let's put our learnings from the previous exercise into practice. We will code a method\n",
    "# `quantize` that quantizes a vector x, given xmin, xmax, and b. It should return the quantized\n",
    "# values for a given x.\n",
    "# Objective: Quantize a given vector x using uniform quantization\n",
    "\n",
    "import numpy as np\n",
    "# Computes scale\n",
    "def get_scale(x_min, x_max, b):\n",
    "    return (x_max - x_min) * 1.0 / (2**b)\n",
    "\n",
    "\"\"\"Quantizing the given vector x.\"\"\"\n",
    "def quantize(x, x_min, x_max, b):\n",
    "    np.clip(x, x_min, x_max, out=x) # Clamp x to lie in range [x_min, x_max]\n",
    "    \n",
    "    s = get_scale(x_min, x_max, b)\n",
    "    x_q = np.floor((x - x_min) / s)\n",
    "\n",
    "    # Clamp the quantized value to be less than (2^b - 1)\n",
    "    x_q = np.minimum(x_q, 2**b - 1)\n",
    "\n",
    "    # Return x_q as unsigned integer\n",
    "    # unit8 is the smallest data type supported by numpy\n",
    "    return x_q.astype(np.uint8)\n"
   ]
  },
  {
   "cell_type": "code",
   "execution_count": 2,
   "metadata": {},
   "outputs": [
    {
     "name": "stdout",
     "output_type": "stream",
     "text": [
      "[-10.   -7.5  -5.   -2.5   0.    2.5   5.    7.5  10. ]\n",
      "[0 1 2 3 4 5 6 7 7]\n"
     ]
    }
   ],
   "source": [
    "# Testing example for the range [-10, 10], incrementing by 2.5\n",
    "# We slightly exceed 10.0 to include 10.0 in our range\n",
    "\n",
    "x = np.arange(-10.0, 10.0 + 1e-6, 2.5)\n",
    "print(x)\n",
    "x_quantized = quantize(x, -10.0, 10.0, 3)\n",
    "print(x_quantized) "
   ]
  }
 ],
 "metadata": {
  "kernelspec": {
   "display_name": "Python 3",
   "language": "python",
   "name": "python3"
  },
  "language_info": {
   "codemirror_mode": {
    "name": "ipython",
    "version": 3
   },
   "file_extension": ".py",
   "mimetype": "text/x-python",
   "name": "python",
   "nbconvert_exporter": "python",
   "pygments_lexer": "ipython3",
   "version": "3.13.0"
  }
 },
 "nbformat": 4,
 "nbformat_minor": 2
}
